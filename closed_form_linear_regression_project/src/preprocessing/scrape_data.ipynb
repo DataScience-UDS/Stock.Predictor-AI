{
 "cells": [
  {
   "cell_type": "code",
   "execution_count": 1,
   "id": "e7094974",
   "metadata": {},
   "outputs": [],
   "source": [
    "import pandas as pd"
   ]
  },
  {
   "cell_type": "code",
   "execution_count": 2,
   "id": "1069734d",
   "metadata": {},
   "outputs": [],
   "source": [
    "#Fetching data of companies in S&P 500 list on Wikipedia\n",
    "url = 'https://en.wikipedia.org/wiki/List_of_S%26P_500_companies'\n",
    "tables = pd.read_html(url) #Uses pandas to scrape data"
   ]
  },
  {
   "cell_type": "code",
   "execution_count": 3,
   "id": "41984ef6",
   "metadata": {},
   "outputs": [],
   "source": [
    "sp500_df = tables[0]"
   ]
  },
  {
   "cell_type": "code",
   "execution_count": 4,
   "id": "fade3619",
   "metadata": {},
   "outputs": [
    {
     "name": "stdout",
     "output_type": "stream",
     "text": [
      "    Symbol             Security             GICS Sector  \\\n",
      "0      MMM                   3M             Industrials   \n",
      "1      AOS          A. O. Smith             Industrials   \n",
      "2      ABT  Abbott Laboratories             Health Care   \n",
      "3     ABBV               AbbVie             Health Care   \n",
      "4      ACN            Accenture  Information Technology   \n",
      "..     ...                  ...                     ...   \n",
      "498    XYL           Xylem Inc.             Industrials   \n",
      "499    YUM          Yum! Brands  Consumer Discretionary   \n",
      "500   ZBRA   Zebra Technologies  Information Technology   \n",
      "501    ZBH        Zimmer Biomet             Health Care   \n",
      "502    ZTS               Zoetis             Health Care   \n",
      "\n",
      "                                GICS Sub-Industry    Headquarters Location  \\\n",
      "0                        Industrial Conglomerates    Saint Paul, Minnesota   \n",
      "1                               Building Products     Milwaukee, Wisconsin   \n",
      "2                           Health Care Equipment  North Chicago, Illinois   \n",
      "3                                   Biotechnology  North Chicago, Illinois   \n",
      "4                  IT Consulting & Other Services          Dublin, Ireland   \n",
      "..                                            ...                      ...   \n",
      "498  Industrial Machinery & Supplies & Components   White Plains, New York   \n",
      "499                                   Restaurants     Louisville, Kentucky   \n",
      "500            Electronic Equipment & Instruments   Lincolnshire, Illinois   \n",
      "501                         Health Care Equipment          Warsaw, Indiana   \n",
      "502                               Pharmaceuticals   Parsippany, New Jersey   \n",
      "\n",
      "     Date added      CIK      Founded  \n",
      "0    1957-03-04    66740         1902  \n",
      "1    2017-07-26    91142         1916  \n",
      "2    1957-03-04     1800         1888  \n",
      "3    2012-12-31  1551152  2013 (1888)  \n",
      "4    2011-07-06  1467373         1989  \n",
      "..          ...      ...          ...  \n",
      "498  2011-11-01  1524472         2011  \n",
      "499  1997-10-06  1041061         1997  \n",
      "500  2019-12-23   877212         1969  \n",
      "501  2001-08-07  1136869         1927  \n",
      "502  2013-06-21  1555280         1952  \n",
      "\n",
      "[503 rows x 8 columns]\n"
     ]
    }
   ],
   "source": [
    "print(sp500_df)"
   ]
  },
  {
   "cell_type": "code",
   "execution_count": 5,
   "id": "cdf3c5cf",
   "metadata": {},
   "outputs": [],
   "source": [
    "tickers = sp500_df['Symbol'].tolist()"
   ]
  },
  {
   "cell_type": "code",
   "execution_count": 8,
   "id": "7ee8a7c1",
   "metadata": {
    "scrolled": false
   },
   "outputs": [
    {
     "name": "stdout",
     "output_type": "stream",
     "text": [
      "['MMM', 'AOS', 'ABT', 'ABBV', 'ACN', 'ADBE', 'AMD', 'AES', 'AFL', 'A', 'APD', 'ABNB', 'AKAM', 'ALB', 'ARE', 'ALGN', 'ALLE', 'LNT', 'ALL', 'GOOGL', 'GOOG', 'MO', 'AMZN', 'AMCR', 'AEE', 'AEP', 'AXP', 'AIG', 'AMT', 'AWK', 'AMP', 'AME', 'AMGN', 'APH', 'ADI', 'ANSS', 'AON', 'APA', 'APO', 'AAPL', 'AMAT', 'APTV', 'ACGL', 'ADM', 'ANET', 'AJG', 'AIZ', 'T', 'ATO', 'ADSK', 'ADP', 'AZO', 'AVB', 'AVY', 'AXON', 'BKR', 'BALL', 'BAC', 'BAX', 'BDX', 'BRK.B', 'BBY', 'TECH', 'BIIB', 'BLK', 'BX', 'BK', 'BA', 'BKNG', 'BSX', 'BMY', 'AVGO', 'BR', 'BRO', 'BF.B', 'BLDR', 'BG', 'BXP', 'CHRW', 'CDNS', 'CZR', 'CPT', 'CPB', 'COF', 'CAH', 'KMX', 'CCL', 'CARR', 'CAT', 'CBOE', 'CBRE', 'CDW', 'COR', 'CNC', 'CNP', 'CF', 'CRL', 'SCHW', 'CHTR', 'CVX']\n"
     ]
    }
   ],
   "source": [
    "print(tickers[:100]) #Prints first 100 elements"
   ]
  },
  {
   "cell_type": "code",
   "execution_count": null,
   "id": "d2a1a6c8",
   "metadata": {},
   "outputs": [],
   "source": []
  }
 ],
 "metadata": {
  "kernelspec": {
   "display_name": "Python 3 (ipykernel)",
   "language": "python",
   "name": "python3"
  },
  "language_info": {
   "codemirror_mode": {
    "name": "ipython",
    "version": 3
   },
   "file_extension": ".py",
   "mimetype": "text/x-python",
   "name": "python",
   "nbconvert_exporter": "python",
   "pygments_lexer": "ipython3",
   "version": "3.11.7"
  }
 },
 "nbformat": 4,
 "nbformat_minor": 5
}
