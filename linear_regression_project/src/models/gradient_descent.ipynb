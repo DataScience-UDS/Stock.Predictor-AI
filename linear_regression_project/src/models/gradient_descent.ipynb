{
 "cells": [
  {
   "cell_type": "code",
   "execution_count": 1,
   "id": "af070de3",
   "metadata": {},
   "outputs": [],
   "source": [
    "import numpy as np #Enables efficient array operation"
   ]
  },
  {
   "cell_type": "code",
   "execution_count": 2,
   "id": "2301d806",
   "metadata": {},
   "outputs": [],
   "source": [
    "X = np.array([[1,1], [1,2], [1,3], [1,4]])\n",
    "y = np.array([2, 3, 4, 5])"
   ]
  },
  {
   "cell_type": "code",
   "execution_count": 3,
   "id": "78d8faaa",
   "metadata": {},
   "outputs": [],
   "source": [
    "beta = np.zeros(X.shape[1])\n",
    "learning_rate = 0.01\n",
    "epochs = 1000"
   ]
  },
  {
   "cell_type": "code",
   "execution_count": 5,
   "id": "ccb801e4",
   "metadata": {},
   "outputs": [
    {
     "name": "stdout",
     "output_type": "stream",
     "text": [
      "Learning weights [0.86777362 1.04497309]\n"
     ]
    }
   ],
   "source": [
    "for epoch in range(epochs):\n",
    "    y_pred = X @ beta\n",
    "    error = y_pred - y\n",
    "    gradient = X.T @ error / len(y)\n",
    "    beta -= learning_rate * gradient\n",
    "\n",
    "print(\"Learning weights\", beta)"
   ]
  }
 ],
 "metadata": {
  "kernelspec": {
   "display_name": "Python 3 (ipykernel)",
   "language": "python",
   "name": "python3"
  },
  "language_info": {
   "codemirror_mode": {
    "name": "ipython",
    "version": 3
   },
   "file_extension": ".py",
   "mimetype": "text/x-python",
   "name": "python",
   "nbconvert_exporter": "python",
   "pygments_lexer": "ipython3",
   "version": "3.11.7"
  }
 },
 "nbformat": 4,
 "nbformat_minor": 5
}
